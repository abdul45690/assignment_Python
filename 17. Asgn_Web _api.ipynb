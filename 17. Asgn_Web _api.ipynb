{
 "cells": [
  {
   "cell_type": "markdown",
   "id": "ac0e8def",
   "metadata": {},
   "source": [
    "# Q1. What is an API? Give an example, where an API is used in real life.\n",
    "\n",
    "API stands for Application Programming Interface. It is a set of protocols, tools, and definitions that allows different software applications to communicate with each other. An API acts as an intermediary between two or more software applications, allowing them to share data and functionality.\n",
    "\n",
    "An example of API usage in real life is the integration of Google Maps into a website or mobile application. The website or application can use Google's Maps API to access and display maps, location data, and other related information.\n",
    "\n",
    "# Q2. Give advantages and disadvantages of using API.\n",
    "\n",
    "`Advantages of using API`:\n",
    "\n",
    "- Enables efficient communication and data exchange between software applications.\n",
    "- Promotes software modularity and allows developers to build on top of existing functionality.\n",
    "- Facilitates integration with third-party services and software.\n",
    "- Improves software interoperability and compatibility.\n",
    "- Promotes development of ecosystems and communities around software platforms.\n",
    "\n",
    "`Disadvantages of using API`:\n",
    "\n",
    "- Can introduce security vulnerabilities if not properly implemented or secured.\n",
    "- Can result in decreased performance due to added network overhead.\n",
    "- Can be subject to changes or deprecation, which may require software updates or redevelopment.\n",
    "- May introduce compatibility issues with different software versions or platforms.\n",
    "- Can introduce dependencies on third-party services, which may result in disruptions or availability issues.\n",
    "# Q3. What is a Web API? Differentiate between API and Web API.\n",
    "\n",
    "A Web API (also known as a web service) is an API that is accessed through the internet using standard web protocols, such as HTTP. It allows different software applications to communicate and exchange data over the internet, regardless of the programming languages or platforms they use.\n",
    "\n",
    "The main difference between a Web API and an API is that a Web API is accessed over the internet using web protocols, while an API can be accessed locally or over a network. APIs can also take many different forms, such as libraries, frameworks, or protocols, while Web APIs are specifically designed for web-based communication.\n",
    "\n",
    "# Q4. Explain REST and SOAP Architecture. Mention shortcomings of SOAP.\n",
    "\n",
    "`REST (Representational State Transfer)` and `SOAP (Simple Object Access Protocol)` are two different architectural styles for building Web APIs.\n",
    "\n",
    "REST is a lightweight, stateless architecture that uses standard HTTP methods (such as GET, POST, PUT, and DELETE) to perform CRUD (Create, Read, Update, and Delete) operations on resources. REST APIs use URIs (Uniform Resource Identifiers) to identify and manipulate resources, and responses are typically returned in a lightweight format such as JSON or XML.\n",
    "\n",
    "SOAP, on the other hand, is a more heavyweight architecture that uses a standardized XML messaging system to exchange information between applications. SOAP messages include a header, a body, and sometimes a footer, and are sent using standard web protocols such as HTTP, SMTP, or JMS.\n",
    "\n",
    "Shortcomings of SOAP include:\n",
    "\n",
    "High overhead due to the use of XML, which can lead to decreased performance and increased network latency.\n",
    "Complexity of the SOAP protocol, which can make it difficult to implement and maintain.\n",
    "Limited support for caching and browser-based applications.\n",
    "Tight coupling between client and server due to the use of WSDL (Web Services Description Language) for service description and discovery.\n",
    "\n",
    "# Q5. Differentiate between REST and SOAP.\n",
    "\n",
    "REST and SOAP are two different architectural styles for building Web APIs. The main differences between the two are:\n",
    "\n",
    "- Protocol: REST uses standard HTTP methods (such as GET, POST, PUT, and DELETE) to perform CRUD (Create, Read, Update, and Delete) operations on resources, while SOAP uses a standardized XML messaging system to exchange information between applications.\n",
    "- Payload: REST responses are typically returned in a lightweight format such as JSON or XML, while SOAP messages include a header, a body, and sometimes a footer, and are sent using standard web protocols such as HTTP, SMTP, or JMS.\n",
    "- Data format: REST can use various data formats such as JSON, XML, and plain text, while SOAP uses only XML.\n",
    "- Flexibility: REST is a flexible and simple architecture that can be easily modified and extended, while SOAP is a more rigid and complex architecture that can be difficult to modify and extend.\n",
    "- Caching: REST supports caching of resources to improve performance, while SOAP does not have built-in support for caching.\n",
    "- Statelessness: REST is a stateless architecture, meaning that each request contains all the necessary information to complete the request, while SOAP can maintain state between requests."
   ]
  },
  {
   "cell_type": "code",
   "execution_count": null,
   "id": "c686de00",
   "metadata": {},
   "outputs": [],
   "source": []
  }
 ],
 "metadata": {
  "kernelspec": {
   "display_name": "Python 3 (ipykernel)",
   "language": "python",
   "name": "python3"
  },
  "language_info": {
   "codemirror_mode": {
    "name": "ipython",
    "version": 3
   },
   "file_extension": ".py",
   "mimetype": "text/x-python",
   "name": "python",
   "nbconvert_exporter": "python",
   "pygments_lexer": "ipython3",
   "version": "3.9.12"
  }
 },
 "nbformat": 4,
 "nbformat_minor": 5
}
