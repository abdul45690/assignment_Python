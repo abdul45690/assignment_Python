{
 "cells": [
  {
   "cell_type": "markdown",
   "metadata": {},
   "source": [
    "# 1. Explain with an example each when to use a for loop and a while loop.\n",
    "- `For` loop used when we know the no. of iteration\n",
    "- `While` loop used when no. of iteration is unknown. And the loop run itself till the statement become false"
   ]
  },
  {
   "cell_type": "code",
   "execution_count": 2,
   "metadata": {},
   "outputs": [
    {
     "name": "stdout",
     "output_type": "stream",
     "text": [
      "Enter an integer whose table you want 23\n",
      "Upto what times You want your table4\n",
      "23 X 0 = 0\n",
      "23 X 1 = 23\n",
      "23 X 2 = 46\n",
      "23 X 3 = 69\n",
      "23 X 4 = 92\n"
     ]
    }
   ],
   "source": [
    "# for loop \n",
    "num=int(input(\"Enter an integer whose table you want \"))\n",
    "upto =int(input(\"Upto what times You want your table\"))\n",
    "for i in range (upto+1):\n",
    "    result= num*i\n",
    "    print(f\"{num} X {i} = {result}\")"
   ]
  },
  {
   "cell_type": "code",
   "execution_count": 3,
   "metadata": {},
   "outputs": [
    {
     "name": "stdout",
     "output_type": "stream",
     "text": [
      "Enter an integer whose table you want 23\n",
      "Upto what times You want your table5\n",
      "23 X 0 = 0\n",
      "23 X 1 = 23\n",
      "23 X 2 = 46\n",
      "23 X 3 = 69\n",
      "23 X 4 = 92\n",
      "23 X 5 = 115\n"
     ]
    }
   ],
   "source": [
    "# For while loop\n",
    "num=int(input(\"Enter an integer whose table you want \"))\n",
    "upto =int(input(\"Upto what times You want your table\"))\n",
    "i = 0\n",
    "while i<=upto:\n",
    "    result= num*i\n",
    "    print(f\"{num} X {i} = {result}\")\n",
    "    i+=1"
   ]
  },
  {
   "cell_type": "markdown",
   "metadata": {},
   "source": [
    "# 2. Write a python program to print the sum and product of the first 10 natural numbers using for and while loop."
   ]
  },
  {
   "cell_type": "code",
   "execution_count": 4,
   "metadata": {},
   "outputs": [
    {
     "name": "stdout",
     "output_type": "stream",
     "text": [
      "1\n",
      "2\n",
      "3\n",
      "4\n",
      "5\n",
      "6\n",
      "7\n",
      "8\n",
      "9\n",
      "10\n",
      "the sum and product of the first 10 natural numbers are 55 and 3628800\n"
     ]
    }
   ],
   "source": [
    "# for loop \n",
    "sum_of_10_nat_num=0\n",
    "pro_of_10_nat_num=1\n",
    "for i in range(1,11):\n",
    "    print(i)\n",
    "    sum_of_10_nat_num+=i\n",
    "    pro_of_10_nat_num*=i\n",
    "print(f\"the sum and product of the first 10 natural numbers are {sum_of_10_nat_num} and {pro_of_10_nat_num}\")\n",
    "    "
   ]
  },
  {
   "cell_type": "code",
   "execution_count": 5,
   "metadata": {},
   "outputs": [
    {
     "name": "stdout",
     "output_type": "stream",
     "text": [
      "the sum and product of the first 10 natural numbers are 55 and 3628800\n"
     ]
    }
   ],
   "source": [
    "# while loop \n",
    "sum_of_10_nat_num=0\n",
    "pro_of_10_nat_num=1\n",
    "count=11\n",
    "i=1\n",
    "while i<count:\n",
    "    sum_of_10_nat_num+=i\n",
    "    pro_of_10_nat_num*=i\n",
    "    i+=1\n",
    "print(f\"the sum and product of the first 10 natural numbers are {sum_of_10_nat_num} and {pro_of_10_nat_num}\")"
   ]
  },
  {
   "cell_type": "markdown",
   "metadata": {},
   "source": [
    "# 3. Create a python program to compute the electricity bill for a household.\n",
    "# The per-unit charges in rupees are as follows: For the first 100 units, the user will be charged Rs. 4.5 per unit, for the next 100 units, the user will be charged Rs. 6 per unit, and for the next 100 units, the user will be charged Rs. 10 per unit, After 300 units and above the user will be charged Rs. 20 per unit.\n",
    "# You are required to take the units of electricity consumed in a month from the user as input.\n",
    "### Your program must pass this test case: when the unit of electricity consumed by the user in a month is 310, the total electricity bill should be 2250."
   ]
  },
  {
   "cell_type": "code",
   "execution_count": 6,
   "metadata": {},
   "outputs": [
    {
     "name": "stdout",
     "output_type": "stream",
     "text": [
      "the units of electricity consumed in a month310\n",
      "the total bill is Rs.2250.0\n"
     ]
    }
   ],
   "source": [
    "# only if else statement:\n",
    "unit_consumed1 = float(input(\"the units of electricity consumed in a month\"))\n",
    "if unit_consumed1<=100 :\n",
    "    print(f\"the total bill is Rs.{unit_consumed1*4.5}\")\n",
    "elif unit_consumed1<=200:\n",
    "    print(f\"the total bill is Rs.{(100*4.5) + (unit_consumed1-100)*6}\")\n",
    "elif unit_consumed1<=300:\n",
    "    print(f\"the total bill is Rs.{(100*4.5) + (100)*6+ (unit_consumed1-200)*10}\")\n",
    "else:\n",
    "    print(f\"the total bill is Rs.{(100*4.5) + (100)*6+ 100*10 +(unit_consumed1-300)*20}\")"
   ]
  },
  {
   "cell_type": "markdown",
   "metadata": {},
   "source": [
    "# Q4. Create a list of numbers from 1 to 100. Use for loop and while loop to calculate the cube of each number and if the cube of that number is divisible by 4 or 5 then append that number in a list and print that list."
   ]
  },
  {
   "cell_type": "code",
   "execution_count": 7,
   "metadata": {},
   "outputs": [
    {
     "name": "stdout",
     "output_type": "stream",
     "text": [
      "[1, 2, 3, 4, 5, 6, 7, 8, 9, 10, 11, 12, 13, 14, 15, 16, 17, 18, 19, 20, 21, 22, 23, 24, 25, 26, 27, 28, 29, 30, 31, 32, 33, 34, 35, 36, 37, 38, 39, 40, 41, 42, 43, 44, 45, 46, 47, 48, 49, 50, 51, 52, 53, 54, 55, 56, 57, 58, 59, 60, 61, 62, 63, 64, 65, 66, 67, 68, 69, 70, 71, 72, 73, 74, 75, 76, 77, 78, 79, 80, 81, 82, 83, 84, 85, 86, 87, 88, 89, 90, 91, 92, 93, 94, 95, 96, 97, 98, 99, 100]\n"
     ]
    }
   ],
   "source": [
    "l=[]\n",
    "for i in range (1,101):\n",
    "        l.append(i)\n",
    "print(l)"
   ]
  },
  {
   "cell_type": "code",
   "execution_count": 8,
   "metadata": {},
   "outputs": [
    {
     "name": "stdout",
     "output_type": "stream",
     "text": [
      "[1, 8, 27, 64, 125, 216, 343, 512, 729, 1000, 1331, 1728, 2197, 2744, 3375, 4096, 4913, 5832, 6859, 8000, 9261, 10648, 12167, 13824, 15625, 17576, 19683, 21952, 24389, 27000, 29791, 32768, 35937, 39304, 42875, 46656, 50653, 54872, 59319, 64000, 68921, 74088, 79507, 85184, 91125, 97336, 103823, 110592, 117649, 125000, 132651, 140608, 148877, 157464, 166375, 175616, 185193, 195112, 205379, 216000, 226981, 238328, 250047, 262144, 274625, 287496, 300763, 314432, 328509, 343000, 357911, 373248, 389017, 405224, 421875, 438976, 456533, 474552, 493039, 512000, 531441, 551368, 571787, 592704, 614125, 636056, 658503, 681472, 704969, 729000, 753571, 778688, 804357, 830584, 857375, 884736, 912673, 941192, 970299, 1000000]\n"
     ]
    }
   ],
   "source": [
    "l_cube=[i**3 for i in l]\n",
    "print(l_cube)"
   ]
  },
  {
   "cell_type": "code",
   "execution_count": 9,
   "metadata": {},
   "outputs": [
    {
     "name": "stdout",
     "output_type": "stream",
     "text": [
      "[8, 64, 125, 216, 512, 1000, 1728, 2744, 3375, 4096, 5832, 8000, 10648, 13824, 15625, 17576, 21952, 27000, 32768, 39304, 42875, 46656, 54872, 64000, 74088, 85184, 91125, 97336, 110592, 125000, 140608, 157464, 166375, 175616, 195112, 216000, 238328, 262144, 274625, 287496, 314432, 343000, 373248, 405224, 421875, 438976, 474552, 512000, 551368, 592704, 614125, 636056, 681472, 729000, 778688, 830584, 857375, 884736, 941192, 1000000]\n"
     ]
    }
   ],
   "source": [
    "l1=[i for i in l_cube if i**3%4==0 or i**3%5==0]\n",
    "print(l1)"
   ]
  },
  {
   "cell_type": "code",
   "execution_count": 10,
   "metadata": {},
   "outputs": [
    {
     "name": "stdout",
     "output_type": "stream",
     "text": [
      "[8, 64, 125, 216, 512, 1000, 1728, 2744, 3375, 4096, 5832, 8000, 10648, 13824, 15625, 17576, 21952, 27000, 32768, 39304, 42875, 46656, 54872, 64000, 74088, 85184, 91125, 97336, 110592, 125000, 140608, 157464, 166375, 175616, 195112, 216000, 238328, 262144, 274625, 287496, 314432, 343000, 373248, 405224, 421875, 438976, 474552, 512000, 551368, 592704, 614125, 636056, 681472, 729000, 778688, 830584, 857375, 884736, 941192, 1000000]\n"
     ]
    }
   ],
   "source": [
    "L2=[]\n",
    "i=0\n",
    "while i <len(l_cube):\n",
    "    if l_cube[i]%4==0 or l_cube[i]%5==0:\n",
    "        L2.append(l_cube[i])\n",
    "    i+=1\n",
    "print(L2)"
   ]
  },
  {
   "cell_type": "markdown",
   "metadata": {},
   "source": [
    "# Q5. Write a program to filter count vowels in the below-given string. string = \"I want to become a data scientist\""
   ]
  },
  {
   "cell_type": "code",
   "execution_count": 12,
   "metadata": {},
   "outputs": [
    {
     "name": "stdout",
     "output_type": "stream",
     "text": [
      "The total number of vowels in the given sentence is 12\n"
     ]
    }
   ],
   "source": [
    "string = \"I want to become a data scientist\"\n",
    "vowels=['a','e','i','o','u']\n",
    "def isvow(a):\n",
    "    return a.lower() in vowels\n",
    "def count_vow(string):\n",
    "    count=0\n",
    "    for i in range(len(string)):\n",
    "        if isvow(string[i]):\n",
    "            count+=1\n",
    "    return count\n",
    "# for i in new_string:\n",
    "#     if new_string[i] in vowels\n",
    "print(f\"The total number of vowels in the given sentence is {count_vow(string)}\")\n",
    "# string.count()"
   ]
  },
  {
   "cell_type": "code",
   "execution_count": null,
   "metadata": {},
   "outputs": [],
   "source": []
  }
 ],
 "metadata": {
  "kernelspec": {
   "display_name": "Python 3 (ipykernel)",
   "language": "python",
   "name": "python3"
  },
  "language_info": {
   "codemirror_mode": {
    "name": "ipython",
    "version": 3
   },
   "file_extension": ".py",
   "mimetype": "text/x-python",
   "name": "python",
   "nbconvert_exporter": "python",
   "pygments_lexer": "ipython3",
   "version": "3.9.12"
  }
 },
 "nbformat": 4,
 "nbformat_minor": 2
}
