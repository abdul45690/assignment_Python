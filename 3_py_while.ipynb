{
 "cells": [
  {
   "cell_type": "markdown",
   "id": "68a62a9b",
   "metadata": {},
   "source": [
    "# 1. Which keyword is used to create a function? Create a function to return a list of odd numbers in therange of 1 to 25."
   ]
  },
  {
   "cell_type": "markdown",
   "id": "f86b21d8",
   "metadata": {},
   "source": [
    "- `def` keyword "
   ]
  },
  {
   "cell_type": "code",
   "execution_count": 1,
   "id": "fa177a58",
   "metadata": {},
   "outputs": [
    {
     "name": "stdout",
     "output_type": "stream",
     "text": [
      "[1, 3, 5, 7, 9, 11, 13, 15, 17, 19, 21, 23, 25]\n"
     ]
    }
   ],
   "source": [
    "def odd_numbers(n):\n",
    "    l1=[i for i in range (n+1) if i%2!=0]\n",
    "    print(l1)\n",
    "odd_numbers(25)"
   ]
  },
  {
   "cell_type": "markdown",
   "id": "1066966b",
   "metadata": {},
   "source": [
    "# 2. Why *args and **kwargs is used in some functions? Create a function each for *args and **kwargs to demonstrate their use.\n"
   ]
  },
  {
   "cell_type": "markdown",
   "id": "b69e57b3",
   "metadata": {},
   "source": [
    "- `*args` used for undefined number of variables in function and return tuple\n",
    "- `**kwargs` for key value types of variables creating dictionary"
   ]
  },
  {
   "cell_type": "code",
   "execution_count": 3,
   "id": "39cda819",
   "metadata": {},
   "outputs": [
    {
     "data": {
      "text/plain": [
       "(1, 2, 3, 4)"
      ]
     },
     "execution_count": 3,
     "metadata": {},
     "output_type": "execute_result"
    }
   ],
   "source": [
    "def tuples(*args):\n",
    "    return args \n",
    "tuples(1,2,3,4)"
   ]
  },
  {
   "cell_type": "code",
   "execution_count": 4,
   "id": "6ed579af",
   "metadata": {},
   "outputs": [
    {
     "data": {
      "text/plain": [
       "{'a': [1, 2, 3, 4], 'b': 32}"
      ]
     },
     "execution_count": 4,
     "metadata": {},
     "output_type": "execute_result"
    }
   ],
   "source": [
    "def dict(**kwargs):\n",
    "    return kwargs\n",
    "dict(a=[1,2,3,4],b=32 )"
   ]
  },
  {
   "cell_type": "markdown",
   "id": "aa34390d",
   "metadata": {},
   "source": [
    "# 3. What is an iterator in python? Name the method used to initialise the iterator object and the method used for iteration. Use these methods to print the first five elements of the given list [2, 4, 6, 8, 10, 12, 14,16, 18, 20]."
   ]
  },
  {
   "cell_type": "markdown",
   "id": "2415b624",
   "metadata": {},
   "source": [
    "- `iterator`: The type data through which we can pass a function\n",
    "- `iter()`: function used for making an iterable type data into iterator\n"
   ]
  },
  {
   "cell_type": "code",
   "execution_count": 5,
   "id": "22b2f689",
   "metadata": {},
   "outputs": [
    {
     "name": "stdout",
     "output_type": "stream",
     "text": [
      "2\n",
      "4\n",
      "6\n",
      "8\n",
      "10\n"
     ]
    }
   ],
   "source": [
    "l=[2, 4, 6, 8, 10, 12, 14,16, 18, 20]\n",
    "a = iter(l)\n",
    "for i in range (5):\n",
    "    print(next(a))"
   ]
  },
  {
   "cell_type": "markdown",
   "id": "2c6d633c",
   "metadata": {},
   "source": [
    "# 4. What is a generator function in python? Why yield keyword is used? Give an example of a generator function.\n"
   ]
  },
  {
   "cell_type": "markdown",
   "id": "05ef7664",
   "metadata": {},
   "source": [
    "- `generator`: another way of creating iterators in a simple way where it uses the keyword “yield” instead of returning it in a defined function. Generators are implemented using a function. Just as iterators, generators also follow lazy evaluation. Here, the `yield` function returns the data without affecting or exiting the function. It will return a sequence of data in an iterable format where we need to iterate over the sequence to use the data as they won’t store the entire sequence in the memory."
   ]
  },
  {
   "cell_type": "code",
   "execution_count": 6,
   "id": "763952b7",
   "metadata": {},
   "outputs": [
    {
     "name": "stdout",
     "output_type": "stream",
     "text": [
      "5\n",
      "10\n",
      "15\n",
      "20\n",
      "25\n",
      "30\n",
      "35\n",
      "40\n",
      "45\n"
     ]
    }
   ],
   "source": [
    "def sequence_no(n):\n",
    "    for i in range(3,n+3):\n",
    "        if i%5==0:\n",
    "            yield i\n",
    "a = sequence_no(45)\n",
    "for i in a:\n",
    "    print(i)"
   ]
  },
  {
   "cell_type": "markdown",
   "id": "66b35079",
   "metadata": {},
   "source": [
    "# 5. Create a generator function for prime numbers less than 1000. Use the next() method to print the first 20 prime numbers.\n"
   ]
  },
  {
   "cell_type": "code",
   "execution_count": 17,
   "id": "90d4df13",
   "metadata": {},
   "outputs": [
    {
     "name": "stdout",
     "output_type": "stream",
     "text": [
      "1\n",
      "2\n",
      "3\n",
      "4\n",
      "5\n",
      "6\n",
      "7\n",
      "8\n",
      "9\n",
      "10\n",
      "11\n",
      "12\n",
      "13\n",
      "14\n",
      "15\n",
      "16\n",
      "17\n",
      "18\n",
      "19\n"
     ]
    }
   ],
   "source": [
    "def sequence_no(n):\n",
    "    for i in range(1,n):\n",
    "        for j in range(2,int(n**.5)+1):\n",
    "            if i%j==0:\n",
    "                break\n",
    "        yield i \n",
    "a = sequence_no(20)\n",
    "for i in a:\n",
    "    print(i)"
   ]
  },
  {
   "cell_type": "markdown",
   "id": "d24226e7",
   "metadata": {},
   "source": [
    "# 6. Write a python program to print the first 10 Fibonacci numbers using a while loop.\n"
   ]
  },
  {
   "cell_type": "code",
   "execution_count": 25,
   "id": "bfb51555",
   "metadata": {},
   "outputs": [
    {
     "name": "stdout",
     "output_type": "stream",
     "text": [
      "0\n",
      "1\n",
      "1\n",
      "2\n",
      "3\n",
      "5\n",
      "8\n",
      "13\n",
      "21\n",
      "34\n"
     ]
    }
   ],
   "source": [
    "a,b = 0,1\n",
    "count = 1\n",
    "while(count <= 10):\n",
    "    count += 1\n",
    "    print(a)\n",
    "    a,b = b,a+b"
   ]
  },
  {
   "cell_type": "markdown",
   "id": "0ada4989",
   "metadata": {},
   "source": [
    "# 7. Write a List Comprehension to iterate through the given string: ‘pwskills’.Expected output: ['p', 'w', 's', 'k', 'i', 'l', 'l', 's']\n"
   ]
  },
  {
   "cell_type": "code",
   "execution_count": 26,
   "id": "8caae749",
   "metadata": {},
   "outputs": [
    {
     "data": {
      "text/plain": [
       "['p', 'w', 's', 'k', 'i', 'l', 'l', 's']"
      ]
     },
     "execution_count": 26,
     "metadata": {},
     "output_type": "execute_result"
    }
   ],
   "source": [
    "string = \"pwskills\"\n",
    "l = [i for i in string]\n",
    "l"
   ]
  },
  {
   "cell_type": "markdown",
   "id": "f00c7e71",
   "metadata": {},
   "source": [
    "# 8. Write a python program to check whether a given number is Palindrome or not using a while loop.\n"
   ]
  },
  {
   "cell_type": "code",
   "execution_count": 27,
   "id": "8ed4ccfb",
   "metadata": {},
   "outputs": [
    {
     "name": "stdout",
     "output_type": "stream",
     "text": [
      "Give me a number to check whether number is a palindrome or not546\n",
      "given number is not Palindrome\n"
     ]
    }
   ],
   "source": [
    "number = int(input(\"Give me a number to check whether number is a palindrome or not\"))\n",
    "perm_number = number\n",
    "new_number = 0\n",
    "while number>0:\n",
    "    digit = number%10\n",
    "    new_number=new_number*10+digit\n",
    "    number=number//10\n",
    "if new_number==perm_number:\n",
    "    print(\"given number is Palindrome\")\n",
    "else:\n",
    "    print(\"given number is not Palindrome\")\n",
    "    "
   ]
  },
  {
   "cell_type": "markdown",
   "id": "a78aa306",
   "metadata": {},
   "source": [
    "# 9. Write a code to print odd numbers from 1 to 100 using list comprehension.\n",
    "###  Note: Use a list comprehension to create a list from 1 to 100 and use another List comprehension to filter out odd numbers."
   ]
  },
  {
   "cell_type": "code",
   "execution_count": 28,
   "id": "516a56e5",
   "metadata": {},
   "outputs": [
    {
     "name": "stdout",
     "output_type": "stream",
     "text": [
      "[1, 2, 3, 4, 5, 6, 7, 8, 9, 10, 11, 12, 13, 14, 15, 16, 17, 18, 19, 20, 21, 22, 23, 24, 25, 26, 27, 28, 29, 30, 31, 32, 33, 34, 35, 36, 37, 38, 39, 40, 41, 42, 43, 44, 45, 46, 47, 48, 49, 50, 51, 52, 53, 54, 55, 56, 57, 58, 59, 60, 61, 62, 63, 64, 65, 66, 67, 68, 69, 70, 71, 72, 73, 74, 75, 76, 77, 78, 79, 80, 81, 82, 83, 84, 85, 86, 87, 88, 89, 90, 91, 92, 93, 94, 95, 96, 97, 98, 99, 100]\n"
     ]
    }
   ],
   "source": [
    "l = [i for i in range(1,101)]\n",
    "print(l)"
   ]
  },
  {
   "cell_type": "code",
   "execution_count": 29,
   "id": "eeb59636",
   "metadata": {},
   "outputs": [
    {
     "name": "stdout",
     "output_type": "stream",
     "text": [
      "[1, 3, 5, 7, 9, 11, 13, 15, 17, 19, 21, 23, 25, 27, 29, 31, 33, 35, 37, 39, 41, 43, 45, 47, 49, 51, 53, 55, 57, 59, 61, 63, 65, 67, 69, 71, 73, 75, 77, 79, 81, 83, 85, 87, 89, 91, 93, 95, 97, 99]\n"
     ]
    }
   ],
   "source": [
    "l_odd=[i for i in l if i%2!=0]\n",
    "print(l_odd)"
   ]
  }
 ],
 "metadata": {
  "kernelspec": {
   "display_name": "Python 3 (ipykernel)",
   "language": "python",
   "name": "python3"
  },
  "language_info": {
   "codemirror_mode": {
    "name": "ipython",
    "version": 3
   },
   "file_extension": ".py",
   "mimetype": "text/x-python",
   "name": "python",
   "nbconvert_exporter": "python",
   "pygments_lexer": "ipython3",
   "version": "3.9.12"
  }
 },
 "nbformat": 4,
 "nbformat_minor": 5
}
