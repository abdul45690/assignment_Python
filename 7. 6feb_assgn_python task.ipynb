{
 "cells": [
  {
   "cell_type": "markdown",
   "id": "e18a3aba",
   "metadata": {},
   "source": [
    "# Q1. Create a function which will take a list as an argument and return the product of all the numbers after creating a flat list. Use the below-given list as an argument for your function.\n",
    "- list1 = [1,2,3,4, [44,55,66, True], False, (34,56,78,89,34), {1,2,3,3,2,1}, {1:34, \"key2\": [55, 67, 78, 89], 4: (45,\n",
    "22, 61, 34)}, [56, 'data science'], 'Machine Learning']\n",
    "\n",
    "Note: you must extract numeric keys and values of the dictionary also.\n"
   ]
  },
  {
   "cell_type": "code",
   "execution_count": 21,
   "id": "42ff86b0",
   "metadata": {},
   "outputs": [
    {
     "name": "stdout",
     "output_type": "stream",
     "text": [
      "New list: [1, 2, 3, 4, 44, 55, 66, True, 34, 56, 78, 89, 34, 1, 2, 3, 34, [55, 67, 78, 89], (45, 22, 61, 34), 56, 'data science']\n",
      "flat list of numbers : [1, 2, 3, 4, 44, 55, 66, 34, 56, 78, 89, 34, 1, 2, 3, 34, 55, 67, 78, 89, 45, 22, 61, 34, 56]\n",
      "produt_of_numbers: 1033677959746771369708460310528000\n"
     ]
    }
   ],
   "source": [
    "list1 = [1,2,3,4, [44,55,66, True], False, (34,56,78,89,34), {1,2,3,3,2,1}, {1:34, \"key2\": [55, 67, 78, 89], 4: (45, 22, 61, 34)}, [56, 'data science'], 'Machine Learning']\n",
    "new_list =[]\n",
    "\n",
    "def produt_of_numbers(list1):\n",
    "    for i in list1:\n",
    "        if type(i)==list or type(i)==set or type(i)==tuple:\n",
    "            new_list.extend(i)\n",
    "        elif type(i)==dict:\n",
    "            new_list.extend(i.values())\n",
    "\n",
    "        elif type(i)==int or type(i)==float:\n",
    "            new_list.append(i)\n",
    "    print(\"New list:\", new_list)\n",
    "    flat_list= []\n",
    "    for j in new_list:\n",
    "        if type(j)==list or type(j)==tuple:\n",
    "            flat_list.extend(j)\n",
    "\n",
    "        elif type(j)==int or type(j)==float:\n",
    "            flat_list.append(j)\n",
    "    print(\"flat list of numbers :\",flat_list)\n",
    "\n",
    "    from functools import reduce\n",
    "    product = reduce(lambda x,y : x*y,flat_list)\n",
    "    print(\"produt_of_numbers:\",product)\n",
    "        \n",
    "produt_of_numbers(list1)        "
   ]
  },
  {
   "cell_type": "markdown",
   "id": "d9e7ce53",
   "metadata": {},
   "source": [
    "# Q2. Write a python program for encrypting a message sent to you by your friend. The logic of encryption should be such that, for a the output should be z. For b, the output should be y. For c, the output should be x respectively. Also, the whitespace should be replaced with a dollar sign. Keep the punctuation marks unchanged.\n",
    "- Input Sentence: I want to become a Data Scientist.\n",
    "- Encrypt the above input sentence using the program you just created.\n",
    "\n",
    "Note: Convert the given input sentence into lowercase before encrypting. The final output should be\n",
    "lowercase."
   ]
  },
  {
   "cell_type": "code",
   "execution_count": 27,
   "id": "7ea5e84d",
   "metadata": {},
   "outputs": [
    {
     "name": "stdout",
     "output_type": "stream",
     "text": [
      "I$wznt$to$yexome$z$Dztz$Sxientist.\n"
     ]
    }
   ],
   "source": [
    "input_sentence = \"I want to become a Data Scientist.\"\n",
    "input_sentence = input_sentence.replace(\"a\", \"z\")\n",
    "input_sentence = input_sentence.replace(\"b\", \"y\")\n",
    "input_sentence = input_sentence.replace(\"c\", \"x\")\n",
    "input_sentence = input_sentence.replace(\" \", \"$\")\n",
    "print(input_sentence)"
   ]
  },
  {
   "cell_type": "code",
   "execution_count": null,
   "id": "bfd6458e",
   "metadata": {},
   "outputs": [],
   "source": []
  }
 ],
 "metadata": {
  "kernelspec": {
   "display_name": "Python 3 (ipykernel)",
   "language": "python",
   "name": "python3"
  },
  "language_info": {
   "codemirror_mode": {
    "name": "ipython",
    "version": 3
   },
   "file_extension": ".py",
   "mimetype": "text/x-python",
   "name": "python",
   "nbconvert_exporter": "python",
   "pygments_lexer": "ipython3",
   "version": "3.9.12"
  }
 },
 "nbformat": 4,
 "nbformat_minor": 5
}
