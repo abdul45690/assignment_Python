{
 "cells": [
  {
   "cell_type": "markdown",
   "id": "89f3ea53",
   "metadata": {},
   "source": [
    "# Q1. What is Abstraction in OOps? Explain with an example.\n",
    "\n",
    "Abstraction is a process of hiding internal details and showing only important features to users. It helps in managing complexity in a system and provide easy to use interface. For example a car has many features like wheels, engine, etc. A user wants to drive a car doesnot need internal details of car.\n"
   ]
  },
  {
   "cell_type": "markdown",
   "id": "1609d174",
   "metadata": {},
   "source": [
    "# Q2. Differentiate between Abstraction and Encapsulation. Explain with an example.\n",
    "\n",
    "- `Abstraction` is a process of hiding internal details and showing only important features to users. It helps in managing  complexity in a system and provide easy to use interface. For example a car has many features like wheels, engine, etc. A user wants to drive a car doesnot need internal details of car.\n",
    "\n",
    "- `Encalpsulation` a process of wrapping data and method to operate on data into single unit. It ensures that data cannot accessed  on outside world directly and accessed through methods only.It provide data protection and maintain integrity in data. For example, consider a bank account. A bank account is an encapsulated object that has various data such as account number, account holder name, balance, etc. These data should not be accessible to anyone directly."
   ]
  },
  {
   "cell_type": "markdown",
   "id": "6544abe5",
   "metadata": {},
   "source": [
    "# Q3. What is abc module in python? Why is it used?\n",
    "In Python, the abc module stands for \"Abstract Base Classes.\" It provides a way to define abstract classes that enforce specific method signatures for its subclasses. An abstract class cannot be instantiated, and it is meant to be subclassed by other classes that implement its abstract methods.\n",
    "\n",
    "The abc module is used to implement a programming concept called \"polymorphism,\" which allows code to work with objects of different classes in a consistent way. By defining abstract base classes, the abc module helps to ensure that the subclasses implementing the abstract methods have the same interface, which makes it easier to write polymorphic code.\n"
   ]
  },
  {
   "cell_type": "markdown",
   "id": "0d8e00a2",
   "metadata": {},
   "source": [
    "# Q4. How can we achieve data abstraction?\n",
    "In Python, we can achieve data abstraction by using abstract classes and abstract methods. An abstract class is a class that cannot be instantiated and may contain one or more abstract methods. An abstract method is a method that has a declaration but does not have an implementation.\n",
    "\n",
    "To create an abstract class in Python, we need to use the abc module and the ABC (Abstract Base Class) class. To create an abstract method, we need to use the @abstractmethod decorator.\n",
    " your answer."
   ]
  },
  {
   "cell_type": "code",
   "execution_count": 2,
   "id": "18a2b4e0",
   "metadata": {},
   "outputs": [
    {
     "name": "stdout",
     "output_type": "stream",
     "text": [
      "50\n",
      "153.86\n"
     ]
    }
   ],
   "source": [
    "from abc import ABC, abstractmethod\n",
    "\n",
    "class Shape(ABC):\n",
    "    @abstractmethod\n",
    "    def area(self):\n",
    "        pass\n",
    "    \n",
    "class Rectangle(Shape):\n",
    "    def __init__(self, length, width):\n",
    "        self.length = length\n",
    "        self.width = width\n",
    "    \n",
    "    def area(self):\n",
    "        return self.length * self.width\n",
    "    \n",
    "class Circle(Shape):\n",
    "    def __init__(self, radius):\n",
    "        self.radius = radius\n",
    "    \n",
    "    def area(self):\n",
    "        return 3.14 * self.radius * self.radius\n",
    "    \n",
    "# We cannot create an instance of the Shape class, as it is an abstract class\n",
    "# shape = Shape()\n",
    "\n",
    "rectangle = Rectangle(5, 10)\n",
    "print(rectangle.area()) # Output: 50\n",
    "\n",
    "circle = Circle(7)\n",
    "print(circle.area()) # Output: 153.86\n"
   ]
  },
  {
   "cell_type": "markdown",
   "id": "c283bde4",
   "metadata": {},
   "source": [
    "# Q5. Can we create an instance of an abstract class? Explain\n",
    "No, we cannot create an instance of an abstract class. Abstract classes are incomplete and serve as blueprints for other classes to inherit and provide their own implementations for the abstract methods. Therefore, we cannot create an object of an abstract class. However, we can create an object of a concrete subclass that inherits from the abstract class and provides the implementation for all the abstract methods."
   ]
  },
  {
   "cell_type": "code",
   "execution_count": null,
   "id": "63cf1af9",
   "metadata": {},
   "outputs": [],
   "source": []
  }
 ],
 "metadata": {
  "kernelspec": {
   "display_name": "Python 3 (ipykernel)",
   "language": "python",
   "name": "python3"
  },
  "language_info": {
   "codemirror_mode": {
    "name": "ipython",
    "version": 3
   },
   "file_extension": ".py",
   "mimetype": "text/x-python",
   "name": "python",
   "nbconvert_exporter": "python",
   "pygments_lexer": "ipython3",
   "version": "3.9.12"
  }
 },
 "nbformat": 4,
 "nbformat_minor": 5
}
