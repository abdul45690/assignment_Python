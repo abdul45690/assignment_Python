{
 "cells": [
  {
   "cell_type": "markdown",
   "id": "02e74932",
   "metadata": {},
   "source": [
    "# Q1, Create a vehicle class with an init method having instance variables as name_of_vehicle, max_speed and average_of_vehicle.\n"
   ]
  },
  {
   "cell_type": "code",
   "execution_count": 1,
   "id": "f0ae2d3e",
   "metadata": {},
   "outputs": [],
   "source": [
    "class vehicle:\n",
    "    def __init__(self,name, max_speed,average):\n",
    "        self.name_of_vehicle = name\n",
    "        self.max_speed = max_speed\n",
    "        self.average_of_vehicle = average\n",
    "        \n",
    "    "
   ]
  },
  {
   "cell_type": "markdown",
   "id": "7d60290a",
   "metadata": {},
   "source": [
    "# Q2. Create a child class car from the vehicle class created in Que 1, which will inherit the vehicle class. Create a method named seating_capacity which takes capacity as an argument and returns the name of the vehicle and its seating capacity.\n"
   ]
  },
  {
   "cell_type": "code",
   "execution_count": 4,
   "id": "e559e9f1",
   "metadata": {},
   "outputs": [],
   "source": [
    "class vehicle_class(vehicle):\n",
    "    \n",
    "    def __init__(self, capacity):\n",
    "        self.seating_capacity =capacity\n",
    "        return f\"{self.seating_capacity} has a seating capacity of {capacity} people\"\n"
   ]
  },
  {
   "cell_type": "markdown",
   "id": "ddd75885",
   "metadata": {},
   "source": [
    "# Q3. What is multiple inheritance? Write a python code to demonstrate multiple inheritance.\n",
    "Multiple inheritance is a feature of object-oriented programming where a class can inherit from more than one parent class. In multiple inheritance, the child class inherits attributes and methods from multiple parent classes."
   ]
  },
  {
   "cell_type": "code",
   "execution_count": 6,
   "id": "cff5f62a",
   "metadata": {},
   "outputs": [
    {
     "name": "stdout",
     "output_type": "stream",
     "text": [
      "Tesla has a max speed of 240 km/h and an average of 20 km/L. This vehicle has an electric power of 75 kW.\n",
      "Tesla has a seating capacity of 5 people.\n"
     ]
    }
   ],
   "source": [
    "class Vehicle:\n",
    "    def __init__(self, name, max_speed, avg):\n",
    "        self.name = name\n",
    "        self.max_speed = max_speed\n",
    "        self.avg = avg\n",
    "        \n",
    "class Car(Vehicle):\n",
    "    def seating_capacity(self, capacity):\n",
    "        return f\"{self.name} has a seating capacity of {capacity} people.\"\n",
    "    \n",
    "class Electric:\n",
    "    def __init__(self, battery_capacity):\n",
    "        self.battery_capacity = battery_capacity\n",
    "        \n",
    "    def electric_power(self):\n",
    "        return f\"This vehicle has an electric power of {self.battery_capacity} kW.\"\n",
    "        \n",
    "class ElectricCar(Car, Electric):\n",
    "    def __init__(self, name, max_speed, avg, battery_capacity):\n",
    "        Vehicle.__init__(self, name, max_speed, avg)\n",
    "        Electric.__init__(self, battery_capacity)\n",
    "        \n",
    "    def get_specs(self):\n",
    "        return f\"{self.name} has a max speed of {self.max_speed} km/h and an average of {self.avg} km/L. {self.electric_power()}\"\n",
    "\n",
    "my_car = ElectricCar(\"Tesla\", 240, 20, 75)\n",
    "print(my_car.get_specs())\n",
    "print(my_car.seating_capacity(5))\n"
   ]
  },
  {
   "cell_type": "markdown",
   "id": "20e4d4c7",
   "metadata": {},
   "source": [
    "# Q4. What are getter and setter in python? Create a class and create a getter and a setter method in this class.\n",
    "getters and setters are methods that are used to access and modify the values of class attributes or variables. The getter method is used to retrieve the value of an attribute, while the setter method is used to set or change the value of an attribute."
   ]
  },
  {
   "cell_type": "code",
   "execution_count": 7,
   "id": "00127787",
   "metadata": {},
   "outputs": [],
   "source": [
    "class Person:\n",
    "    def __init__(self, name, age):\n",
    "        self._name = name\n",
    "        self._age = age\n",
    "    \n",
    "    def get_name(self):\n",
    "        return self._name\n",
    "    \n",
    "    def set_name(self, name):\n",
    "        self._name = name\n"
   ]
  },
  {
   "cell_type": "markdown",
   "id": "08654e0f",
   "metadata": {},
   "source": [
    "# Q5.What is method overriding in python? Write a python code to demonstrate method overriding.\n",
    "Method overriding is a concept in object-oriented programming where a subclass provides its own implementation of a method that is already present in the parent class.\n",
    "\n",
    "In Python, method overriding can be achieved simply by defining a method in the subclass with the same name as a method in the parent class."
   ]
  },
  {
   "cell_type": "code",
   "execution_count": 8,
   "id": "dcc0cc7a",
   "metadata": {},
   "outputs": [
    {
     "name": "stdout",
     "output_type": "stream",
     "text": [
      "Tesla is starting with ignition.\n"
     ]
    }
   ],
   "source": [
    "class Vehicle:\n",
    "    def __init__(self, name):\n",
    "        self.name = name\n",
    "    \n",
    "    def start(self):\n",
    "        print(f\"{self.name} is starting.\")\n",
    "\n",
    "class Car(Vehicle):\n",
    "    def start(self):\n",
    "        print(f\"{self.name} is starting with ignition.\")\n",
    "\n",
    "car = Car(\"Tesla\")\n",
    "car.start()\n"
   ]
  }
 ],
 "metadata": {
  "kernelspec": {
   "display_name": "Python 3 (ipykernel)",
   "language": "python",
   "name": "python3"
  },
  "language_info": {
   "codemirror_mode": {
    "name": "ipython",
    "version": 3
   },
   "file_extension": ".py",
   "mimetype": "text/x-python",
   "name": "python",
   "nbconvert_exporter": "python",
   "pygments_lexer": "ipython3",
   "version": "3.9.12"
  }
 },
 "nbformat": 4,
 "nbformat_minor": 5
}
