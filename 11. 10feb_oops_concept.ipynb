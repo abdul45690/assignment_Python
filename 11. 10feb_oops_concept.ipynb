{
 "cells": [
  {
   "cell_type": "markdown",
   "id": "b28656fc",
   "metadata": {},
   "source": [
    "# Q1. Which function is used to open a file? What are the different modes of opening a file? Explain each modeof file opening.\n",
    "The open() function is used to open a file.\n",
    "\n",
    "The open() function takes two arguments:\n",
    "\n",
    "1. The first argument is the `path` to the file, either as an absolute or relative path.\n",
    "2. The second argument is a `string indicating the mode` in which to open the file.\n",
    "\n",
    "The mode string specifies the purpose for which the file is opened, such as reading or writing. The different modes available for opening a file are:\n",
    "\n",
    "- r:  reading only. It is the default mode when the mode argument is omitted. If the file does not exist, an error is raised.\n",
    "- w:  for writing. If the file already exists, its contents are truncated. If it does not exist, a new file is created.\n",
    "- x: This mode opens the file for exclusive creation, meaning it will fail if the file already exists.\n",
    "- a: This mode opens the file for writing and appends new data to the end of the file if it already exists. If it does not exist, a new file is created.\n",
    "- b: binary files.\n",
    "- t:  text files. It is the default mode when the mode argument is omitted.\n",
    "- +:  updating (reading and writing)."
   ]
  },
  {
   "cell_type": "markdown",
   "id": "754abacf",
   "metadata": {},
   "source": [
    "# Q2. Why close() function is used? Why is it important to close a file?\n",
    "The close() function is used to close a file that has been opened with the open() function in Python.\n",
    "\n",
    "It's important to close a file after you're done using it for a few reasons:\n",
    "\n",
    "- `Resource management`: When you open a file in your program, your computer reserves system resources to allow your program to interact with that file. If you don't close the file when you're done with it, these resources will remain in use until your program exits or the file is closed, which can slow down your program or cause errors if you try to open too many files at once.\n",
    "\n",
    "- `Data consistency`: When you write data to a file, it's often buffered, meaning it's temporarily held in memory before being written to the file on disk. If you don't close the file, any unwritten data may be lost if your program crashes or the computer loses power. Closing the file ensures that any buffered data is written to disk and that the file is properly updated.\n",
    "\n",
    "- `Security`: If you leave a file open, other programs or processes may be able to access or modify it without your knowledge or permission, which could compromise your program's security.\n"
   ]
  },
  {
   "cell_type": "markdown",
   "id": "c057ce77",
   "metadata": {},
   "source": [
    "# Q3. Write a python program to create a text file. Write ‘I want to become a Data Scientist’ in that file. Thenclose the file. Open this file and read the content of the file.\n"
   ]
  },
  {
   "cell_type": "code",
   "execution_count": 11,
   "id": "0c27a593",
   "metadata": {},
   "outputs": [
    {
     "name": "stdout",
     "output_type": "stream",
     "text": [
      "Hi\n",
      "I want to become a data scientist\n",
      "For that I am preparing very hard \n"
     ]
    }
   ],
   "source": [
    "# open the file for writing\n",
    "file = open(\"New Text Document.txt\",\"w\")\n",
    "\n",
    "#Write the text to file\n",
    "file.write(\"Hi\\nI want to become a data scientist\\nFor that I am preparing very hard \")\n",
    "\n",
    "#Close the file\n",
    "file.close()\n",
    "\n",
    "#Open the file for reading\n",
    "\n",
    "file = open(\"New Text Document.txt\", \"r\")\n",
    "\n",
    "# Read the contents of file\n",
    "contents = file.read()\n",
    "\n",
    "file.close()\n",
    "\n",
    "#Print the content of file\n",
    "print(contents)"
   ]
  },
  {
   "cell_type": "markdown",
   "id": "30ec446a",
   "metadata": {},
   "source": [
    "# Q4. Explain the following with python code: read(), readline() and readlines().\n"
   ]
  },
  {
   "cell_type": "code",
   "execution_count": 15,
   "id": "eb341725",
   "metadata": {},
   "outputs": [
    {
     "name": "stdout",
     "output_type": "stream",
     "text": [
      "readline: Hi\n",
      "\n",
      "readlines:\n",
      "* I want to become a data scientist\n",
      " *\n",
      "* For that I am preparing very hard  *\n"
     ]
    }
   ],
   "source": [
    "# readline\n",
    "file = open(\"New Text Document.txt\",\"r\")\n",
    "line  = file.readline()\n",
    "print(\"readline:\",line)\n",
    "\n",
    "#readlines\n",
    "lines = file.readlines()\n",
    "print(\"readlines:\")\n",
    "for line in lines:\n",
    "    print(\"*\",line,\"*\")\n",
    "    \n",
    "# CLose the file\n",
    "file.close()"
   ]
  },
  {
   "cell_type": "markdown",
   "id": "c67b7b45",
   "metadata": {},
   "source": [
    "# Q5. Explain why with statement is used with open(). What is the advantage of using with statement andopen() together?\n",
    "The with statement is used with the open() function when working with files in Python. It provides a way to ensure that a file is closed properly after it has been used, even if an error occurs while working with the file.\n",
    "\n",
    "When you use the open() function to open a file, you are creating a file object. This file object has certain methods that you can use to read from or write to the file. However, if you don't close the file properly after you are done using it, it can lead to data loss or other errors. This is where the with statement comes in handy.\n",
    "\n",
    "The with statement is a control structure that creates a block of code with a specific context, and then automatically cleans up the context when the block is exited. When used with the open() function, it ensures that the file is closed properly after the block of code is executed.\n",
    "\n",
    "Here's an example of using with statement and open() together:\n",
    "\n"
   ]
  },
  {
   "cell_type": "code",
   "execution_count": 16,
   "id": "e91cf9db",
   "metadata": {},
   "outputs": [
    {
     "name": "stdout",
     "output_type": "stream",
     "text": [
      "Hi\n",
      "I want to become a data scientist\n",
      "For that I am preparing very hard \n"
     ]
    }
   ],
   "source": [
    "# Using with statement to open a file\n",
    "with open(\"New Text Document.txt\", \"r\") as file:\n",
    "    # Do something with the file object\n",
    "    content = file.read()\n",
    "    \n",
    "# File is automatically closed when the with block is exited\n",
    "\n",
    "# Print the contents of the file\n",
    "print(content)\n"
   ]
  },
  {
   "cell_type": "markdown",
   "id": "e0d6c7e0",
   "metadata": {},
   "source": [
    "# Q6. Explain the write() and writelines() functions. Give a suitable example.\n",
    "the write() and writelines() functions are used for writing data to a file. Here's an explanation of each function and an example of how they can be used:"
   ]
  },
  {
   "cell_type": "code",
   "execution_count": 18,
   "id": "c2f137a3",
   "metadata": {},
   "outputs": [],
   "source": [
    "# Open a file for writing\n",
    "file = open(\"New Text Document.txt\", \"w\")\n",
    "\n",
    "# Write a string to the file\n",
    "file.write(\"Hello, World!\\n\")\n",
    "\n",
    "# Close the file\n",
    "file.close()\n"
   ]
  },
  {
   "cell_type": "code",
   "execution_count": 17,
   "id": "ef4b4bf6",
   "metadata": {},
   "outputs": [],
   "source": [
    "# Open a file for writing\n",
    "file = open(\"New Text Document.txt\", \"w\")\n",
    "\n",
    "# Write a list of strings to the file\n",
    "lines = [\"Line 1\\n\", \"Line 2\\n\", \"Line 3\\n\"]\n",
    "file.writelines(lines)\n",
    "\n",
    "# Close the file\n",
    "file.close()\n"
   ]
  }
 ],
 "metadata": {
  "kernelspec": {
   "display_name": "Python 3 (ipykernel)",
   "language": "python",
   "name": "python3"
  },
  "language_info": {
   "codemirror_mode": {
    "name": "ipython",
    "version": 3
   },
   "file_extension": ".py",
   "mimetype": "text/x-python",
   "name": "python",
   "nbconvert_exporter": "python",
   "pygments_lexer": "ipython3",
   "version": "3.9.12"
  }
 },
 "nbformat": 4,
 "nbformat_minor": 5
}
