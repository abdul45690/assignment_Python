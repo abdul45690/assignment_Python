{
 "cells": [
  {
   "cell_type": "markdown",
   "id": "721878af",
   "metadata": {},
   "source": [
    "# Q1. Explain why we have to use the Exception class while creating a Custom Exception.\n",
    " Note: Here Exception class refers to the base class for all the exceptions.\n",
    " \n",
    "Exception class, we can take advantage of its pre-built functionality for handling exceptions, such as:\n",
    "\n",
    "1. Storing and raising error messages\n",
    "2. Customizing error messages with the __str__() method\n",
    "3. Propagating exceptions to higher levels of code using the raise statement\n",
    "4. Catching exceptions using the try and except statements\n"
   ]
  },
  {
   "cell_type": "markdown",
   "id": "88b9e4f0",
   "metadata": {},
   "source": [
    "# Q2. Write a python program to print Python Exception Hierarchy.\n"
   ]
  },
  {
   "cell_type": "code",
   "execution_count": 1,
   "id": "b5649117",
   "metadata": {},
   "outputs": [
    {
     "name": "stdout",
     "output_type": "stream",
     "text": [
      "BaseException\n"
     ]
    }
   ],
   "source": [
    "# Get the Exception hierarchy\n",
    "exception_hierarchy = []\n",
    "current_exception = BaseException\n",
    "\n",
    "while current_exception is not object:\n",
    "    exception_hierarchy.append(current_exception)\n",
    "    current_exception = current_exception.__base__\n",
    "\n",
    "exception_hierarchy.reverse()\n",
    "\n",
    "# Print the Exception hierarchy\n",
    "for exception in exception_hierarchy:\n",
    "    print(exception.__name__)\n"
   ]
  },
  {
   "cell_type": "markdown",
   "id": "72a84a79",
   "metadata": {},
   "source": [
    "# Q3. What errors are defined in the ArithmeticError class? Explain any two with an example.\n",
    "\n",
    "Some of the errors that are defined in the ArithmeticError class include \n",
    "- ZeroDivisionError, \n",
    "- OverflowError, \n",
    "- FloatingPointError, \n",
    "- UnderflowError, \n",
    "- ValueError, and \n",
    "- RecursionError.\n"
   ]
  },
  {
   "cell_type": "code",
   "execution_count": 4,
   "id": "4202a87f",
   "metadata": {},
   "outputs": [
    {
     "name": "stdout",
     "output_type": "stream",
     "text": [
      "Error: Cannot compute the square root of a negative number math domain error\n"
     ]
    }
   ],
   "source": [
    "import math\n",
    "\n",
    "try:\n",
    "    result = math.sqrt(-1)\n",
    "except (FloatingPointError, ValueError) as e:\n",
    "    print(\"Error: Cannot compute the square root of a negative number\", e)\n",
    "\n"
   ]
  },
  {
   "cell_type": "markdown",
   "id": "d650a41d",
   "metadata": {},
   "source": [
    "# Q4. Why LookupError class is used? Explain with an example KeyError and IndexError.\n"
   ]
  },
  {
   "cell_type": "code",
   "execution_count": 5,
   "id": "3434895a",
   "metadata": {},
   "outputs": [
    {
     "name": "stdout",
     "output_type": "stream",
     "text": [
      "Error: Key 'd' does not exist in the dictionary\n"
     ]
    }
   ],
   "source": [
    "my_dict = {\"a\": 1, \"b\": 2, \"c\": 3}\n",
    "\n",
    "try:\n",
    "    value = my_dict[\"d\"]\n",
    "except KeyError:\n",
    "    print(\"Error: Key 'd' does not exist in the dictionary\")\n"
   ]
  },
  {
   "cell_type": "code",
   "execution_count": 6,
   "id": "1a6d9e7d",
   "metadata": {},
   "outputs": [
    {
     "name": "stdout",
     "output_type": "stream",
     "text": [
      "Error: Index 3 is out of range for the list\n"
     ]
    }
   ],
   "source": [
    "my_list = [1, 2, 3]\n",
    "\n",
    "try:\n",
    "    value = my_list[3]\n",
    "except IndexError:\n",
    "    print(\"Error: Index 3 is out of range for the list\")\n"
   ]
  },
  {
   "cell_type": "markdown",
   "id": "7091f9ea",
   "metadata": {},
   "source": [
    "# Q5. Explain ImportError. What is ModuleNotFoundError?\n",
    "`ImportError` is a built-in exception in Python that occurs when an imported module, package, or name cannot be found or accessed.\n",
    "\n",
    "`ModuleNotFoundError` is a subclass of ImportError that was introduced in Python 3.6. It is raised when a module is not found during the import process. "
   ]
  },
  {
   "cell_type": "markdown",
   "id": "c071b572",
   "metadata": {},
   "source": [
    "# Q6. List down some best practices for exception handling in python.\n",
    "\n",
    "- Be specific\n",
    "- Use try-except blocks only when necessary\n",
    "- Log errors\n",
    "- Provide useful error messages\n",
    "- Clean up resources\n",
    "- Raise exceptions"
   ]
  },
  {
   "cell_type": "code",
   "execution_count": null,
   "id": "6d47399a",
   "metadata": {},
   "outputs": [],
   "source": []
  }
 ],
 "metadata": {
  "kernelspec": {
   "display_name": "Python 3 (ipykernel)",
   "language": "python",
   "name": "python3"
  },
  "language_info": {
   "codemirror_mode": {
    "name": "ipython",
    "version": 3
   },
   "file_extension": ".py",
   "mimetype": "text/x-python",
   "name": "python",
   "nbconvert_exporter": "python",
   "pygments_lexer": "ipython3",
   "version": "3.9.12"
  }
 },
 "nbformat": 4,
 "nbformat_minor": 5
}
