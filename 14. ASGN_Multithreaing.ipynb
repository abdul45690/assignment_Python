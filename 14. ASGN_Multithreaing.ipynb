{
 "cells": [
  {
   "cell_type": "markdown",
   "id": "0eb4752a",
   "metadata": {},
   "source": [
    "# Q1. What is multithreading in python? Why is it used? Name the module used to handle threads in python.\n",
    "Multithreading in Python is the concurrent execution of multiple threads within a single process. In other words, it allows multiple threads of execution to run concurrently within a single program. Each thread runs independently and shares the same memory space.\n",
    "\n",
    "Multithreading is used in Python to improve the performance of a program by executing multiple tasks simultaneously. It can be particularly useful when a program needs to perform I/O-bound or CPU-bound operations. I/O-bound operations, such as reading from or writing to a file or a network connection, can be performed concurrently, while CPU-bound operations, such as numerical computations or image processing, can be parallelized across multiple threads to take advantage of multi-core processors.\n",
    "\n",
    "Python provides a built-in module called threading to handle threads. This module allows you to create, start, stop, and synchronize threads. The threading module provides a Thread class that can be used to create and control threads. You can subclass the Thread class to define a custom thread that performs a specific task.\n",
    "\n",
    "To create a thread using the threading module, you first need to define a function that will be executed by the thread. This function is passed as an argument to the Thread constructor. Once the thread is created, you can start it by calling the start() method.\n",
    "# Q2. Why threading module used? Write the use of the following functions:\n",
    "1. activeCount()\n",
    "2. currentThread()\n",
    "3. enumerate()\n",
    "The threading module is used in Python to handle threads, which are a way to achieve concurrent execution of multiple tasks within a single program. The module provides a Thread class that can be used to create and control threads.\n",
    "\n",
    "Here are the uses of the following functions in the threading module:\n",
    "\n",
    "- activeCount(): This function returns the number of Thread objects that are currently active and running in the current Python interpreter. This can be useful for monitoring the progress of a multithreaded program and ensuring that all threads are running as expected.\n",
    "\n",
    "- currentThread(): This function returns a Thread object that represents the current thread of execution. This can be useful for getting information about the current thread, such as its name or identifier, and for passing the current thread as an argument to other functions.\n",
    "\n",
    "- enumerate(): This function returns a list of all Thread objects that are currently active and running in the current Python interpreter. Each Thread object in the list represents a separate thread of execution. This can be useful for monitoring the progress of a multithreaded program and for accessing information about all threads at once.\n",
    "# Q3. Explain the following functions:\n",
    "1. run()\n",
    "2. start()\n",
    "3. join()\n",
    "4. is Alive()\n",
    "\n",
    "The following are commonly used functions in the Python threading module:\n",
    "\n",
    "1. run(): This method is called when the thread is started using the start() method. It is the method that contains the code that the thread will execute.\n",
    "\n",
    "2. start(): This method starts the thread's activity. It must be called at most once per thread object. It spawns a new thread and calls the run() method.\n",
    "\n",
    "3. join(): This method blocks the calling thread until the thread whose join() method is called completes or terminates. It waits for the thread to finish executing before the calling thread can continue.\n",
    "\n",
    "4. is_alive(): This method returns True if the thread is currently running or alive, and False otherwise. It can be used to check the status of a thread and determine whether it is still running or has completed its task.\n",
    "# Q4. Write a python program to create two threads. Thread one must print the list of squares and thread two must print the list of cubes.\n"
   ]
  },
  {
   "cell_type": "code",
   "execution_count": 1,
   "id": "48a53395",
   "metadata": {},
   "outputs": [
    {
     "name": "stdout",
     "output_type": "stream",
     "text": [
      "11\n",
      "4\n",
      "8\n",
      "27\n",
      "64\n",
      "125\n",
      "\n",
      "9\n",
      "16\n",
      "25\n",
      "36\n",
      "49\n",
      "64\n",
      "81\n",
      "100\n",
      "216\n",
      "343\n",
      "512\n",
      "729\n",
      "1000\n",
      "Done\n"
     ]
    }
   ],
   "source": [
    "import threading\n",
    "\n",
    "# Define a function to print squares of numbers\n",
    "def print_squares():\n",
    "    for i in range(1, 11):\n",
    "        print(i**2)\n",
    "\n",
    "# Define a function to print cubes of numbers\n",
    "def print_cubes():\n",
    "    for i in range(1, 11):\n",
    "        print(i**3)\n",
    "\n",
    "# Create two threads\n",
    "t1 = threading.Thread(target=print_squares)\n",
    "t2 = threading.Thread(target=print_cubes)\n",
    "\n",
    "# Start both threads\n",
    "t1.start()\n",
    "t2.start()\n",
    "\n",
    "# Wait for both threads to finish\n",
    "t1.join()\n",
    "t2.join()\n",
    "\n",
    "# Done\n",
    "print(\"Done\")\n"
   ]
  },
  {
   "cell_type": "markdown",
   "id": "8598d237",
   "metadata": {},
   "source": [
    "# Q5. State advantages and disadvantages of multithreading.\n",
    "\n",
    "|Advantage|Disadvantage|\n",
    "|----|----|\n",
    "|`Increased responsiveness`: Multithreading allows a program to remain responsive to user input while performing long-running tasks in the background.|`Increased complexity`: Multithreaded programs can be more complex and difficult to write and debug than single-threaded programs.|\n",
    "|`Improved performance`: Multithreading can improve the performance of a program by taking advantage of multiple CPU cores to perform tasks in parallel.|`Synchronization issues`: Multithreaded programs can suffer from synchronization issues when multiple threads access the same shared data, which can lead to race conditions, deadlocks, and other problems.|\n",
    "|`Simplified design`: Multithreading can simplify the design of a program by allowing developers to break up complex tasks into smaller, more manageable pieces that can be executed concurrently.|`Overhead`: Multithreading introduces some overhead in terms of memory and CPU usage, as well as the time required to create and manage threads.|\n",
    "\n",
    "# Q6. Explain deadlocks and race conditions.\n",
    "A deadlock occurs when two or more threads are blocked, waiting for each other to release a resource that they need in order to proceed. For example, Thread A might hold Resource 1 and be waiting for Resource 2, while Thread B might hold Resource 2 and be waiting for Resource 1. This can cause both threads to become deadlocked, unable to proceed or release their resources, and resulting in a program that appears to be frozen.\n",
    "\n",
    "A race condition occurs when two or more threads access shared data or resources in an inconsistent or unpredictable order, leading to unexpected results or errors. For example, if two threads attempt to modify the same variable at the same time, the final value of the variable may depend on which thread gets to it first. This can result in data corruption, incorrect results, or program crashes."
   ]
  }
 ],
 "metadata": {
  "kernelspec": {
   "display_name": "Python 3 (ipykernel)",
   "language": "python",
   "name": "python3"
  },
  "language_info": {
   "codemirror_mode": {
    "name": "ipython",
    "version": 3
   },
   "file_extension": ".py",
   "mimetype": "text/x-python",
   "name": "python",
   "nbconvert_exporter": "python",
   "pygments_lexer": "ipython3",
   "version": "3.9.12"
  }
 },
 "nbformat": 4,
 "nbformat_minor": 5
}
